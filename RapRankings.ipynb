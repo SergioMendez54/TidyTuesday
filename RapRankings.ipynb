{
 "cells": [
  {
   "cell_type": "code",
   "execution_count": 1,
   "metadata": {},
   "outputs": [],
   "source": [
    "import pandas as pd\n",
    "import matplotlib as plt\n"
   ]
  },
  {
   "cell_type": "markdown",
   "metadata": {},
   "source": [
    "#### Load data from URL"
   ]
  },
  {
   "cell_type": "code",
   "execution_count": 37,
   "metadata": {},
   "outputs": [],
   "source": [
    "polls = \"https://raw.githubusercontent.com/rfordatascience/tidytuesday/master/data/2020/2020-04-14/polls.csv\"\n",
    "rankings = \"https://raw.githubusercontent.com/rfordatascience/tidytuesday/master/data/2020/2020-04-14/rankings.csv\"\n",
    "pollsdf = pd.read_csv(polls)\n",
    "rankingsdf = pd.read_csv(rankings)"
   ]
  },
  {
   "cell_type": "code",
   "execution_count": 4,
   "metadata": {},
   "outputs": [
    {
     "data": {
      "text/html": [
       "<div>\n",
       "<style scoped>\n",
       "    .dataframe tbody tr th:only-of-type {\n",
       "        vertical-align: middle;\n",
       "    }\n",
       "\n",
       "    .dataframe tbody tr th {\n",
       "        vertical-align: top;\n",
       "    }\n",
       "\n",
       "    .dataframe thead th {\n",
       "        text-align: right;\n",
       "    }\n",
       "</style>\n",
       "<table border=\"1\" class=\"dataframe\">\n",
       "  <thead>\n",
       "    <tr style=\"text-align: right;\">\n",
       "      <th></th>\n",
       "      <th>rank</th>\n",
       "      <th>year</th>\n",
       "    </tr>\n",
       "  </thead>\n",
       "  <tbody>\n",
       "    <tr>\n",
       "      <th>count</th>\n",
       "      <td>535.000000</td>\n",
       "      <td>535.000000</td>\n",
       "    </tr>\n",
       "    <tr>\n",
       "      <th>mean</th>\n",
       "      <td>3.000000</td>\n",
       "      <td>1998.147664</td>\n",
       "    </tr>\n",
       "    <tr>\n",
       "      <th>std</th>\n",
       "      <td>1.415537</td>\n",
       "      <td>8.893390</td>\n",
       "    </tr>\n",
       "    <tr>\n",
       "      <th>min</th>\n",
       "      <td>1.000000</td>\n",
       "      <td>1979.000000</td>\n",
       "    </tr>\n",
       "    <tr>\n",
       "      <th>25%</th>\n",
       "      <td>2.000000</td>\n",
       "      <td>1993.000000</td>\n",
       "    </tr>\n",
       "    <tr>\n",
       "      <th>50%</th>\n",
       "      <td>3.000000</td>\n",
       "      <td>1996.000000</td>\n",
       "    </tr>\n",
       "    <tr>\n",
       "      <th>75%</th>\n",
       "      <td>4.000000</td>\n",
       "      <td>2003.000000</td>\n",
       "    </tr>\n",
       "    <tr>\n",
       "      <th>max</th>\n",
       "      <td>5.000000</td>\n",
       "      <td>2019.000000</td>\n",
       "    </tr>\n",
       "  </tbody>\n",
       "</table>\n",
       "</div>"
      ],
      "text/plain": [
       "             rank         year\n",
       "count  535.000000   535.000000\n",
       "mean     3.000000  1998.147664\n",
       "std      1.415537     8.893390\n",
       "min      1.000000  1979.000000\n",
       "25%      2.000000  1993.000000\n",
       "50%      3.000000  1996.000000\n",
       "75%      4.000000  2003.000000\n",
       "max      5.000000  2019.000000"
      ]
     },
     "execution_count": 4,
     "metadata": {},
     "output_type": "execute_result"
    }
   ],
   "source": [
    "rankingsdf.describe()"
   ]
  },
  {
   "cell_type": "markdown",
   "metadata": {},
   "source": [
    "### Save files to CSV on local drive."
   ]
  },
  {
   "cell_type": "code",
   "execution_count": 6,
   "metadata": {},
   "outputs": [],
   "source": [
    "pollsdf.to_csv(\"polls.csv\")"
   ]
  },
  {
   "cell_type": "code",
   "execution_count": 38,
   "metadata": {},
   "outputs": [],
   "source": [
    "rankingsdf.to_csv(\"rankings.csv\")"
   ]
  },
  {
   "cell_type": "code",
   "execution_count": 39,
   "metadata": {},
   "outputs": [
    {
     "data": {
      "text/html": [
       "<div>\n",
       "<style scoped>\n",
       "    .dataframe tbody tr th:only-of-type {\n",
       "        vertical-align: middle;\n",
       "    }\n",
       "\n",
       "    .dataframe tbody tr th {\n",
       "        vertical-align: top;\n",
       "    }\n",
       "\n",
       "    .dataframe thead th {\n",
       "        text-align: right;\n",
       "    }\n",
       "</style>\n",
       "<table border=\"1\" class=\"dataframe\">\n",
       "  <thead>\n",
       "    <tr style=\"text-align: right;\">\n",
       "      <th></th>\n",
       "      <th>rank</th>\n",
       "      <th>title</th>\n",
       "      <th>artist</th>\n",
       "      <th>gender</th>\n",
       "      <th>year</th>\n",
       "      <th>critic_name</th>\n",
       "      <th>critic_rols</th>\n",
       "      <th>critic_country</th>\n",
       "      <th>critic_country2</th>\n",
       "    </tr>\n",
       "  </thead>\n",
       "  <tbody>\n",
       "    <tr>\n",
       "      <th>0</th>\n",
       "      <td>1</td>\n",
       "      <td>Terminator X To The Edge of Panic</td>\n",
       "      <td>Public Enemy</td>\n",
       "      <td>male</td>\n",
       "      <td>1998</td>\n",
       "      <td>Joseph Abajian</td>\n",
       "      <td>Fat Beats</td>\n",
       "      <td>US</td>\n",
       "      <td>NaN</td>\n",
       "    </tr>\n",
       "    <tr>\n",
       "      <th>1</th>\n",
       "      <td>2</td>\n",
       "      <td>4th Chamber</td>\n",
       "      <td>Gza ft. Ghostface Killah &amp; Killah Priest &amp; RZA</td>\n",
       "      <td>male</td>\n",
       "      <td>1995</td>\n",
       "      <td>Joseph Abajian</td>\n",
       "      <td>Fat Beats</td>\n",
       "      <td>US</td>\n",
       "      <td>NaN</td>\n",
       "    </tr>\n",
       "    <tr>\n",
       "      <th>2</th>\n",
       "      <td>3</td>\n",
       "      <td>Peter Piper</td>\n",
       "      <td>Run DMC</td>\n",
       "      <td>male</td>\n",
       "      <td>1986</td>\n",
       "      <td>Joseph Abajian</td>\n",
       "      <td>Fat Beats</td>\n",
       "      <td>US</td>\n",
       "      <td>NaN</td>\n",
       "    </tr>\n",
       "    <tr>\n",
       "      <th>3</th>\n",
       "      <td>4</td>\n",
       "      <td>Play That Beat Mr DJ</td>\n",
       "      <td>GLOBE &amp; Whiz Kid</td>\n",
       "      <td>male</td>\n",
       "      <td>2001</td>\n",
       "      <td>Joseph Abajian</td>\n",
       "      <td>Fat Beats</td>\n",
       "      <td>US</td>\n",
       "      <td>NaN</td>\n",
       "    </tr>\n",
       "    <tr>\n",
       "      <th>4</th>\n",
       "      <td>5</td>\n",
       "      <td>Time’s Up</td>\n",
       "      <td>O.C.</td>\n",
       "      <td>male</td>\n",
       "      <td>1994</td>\n",
       "      <td>Joseph Abajian</td>\n",
       "      <td>Fat Beats</td>\n",
       "      <td>US</td>\n",
       "      <td>NaN</td>\n",
       "    </tr>\n",
       "  </tbody>\n",
       "</table>\n",
       "</div>"
      ],
      "text/plain": [
       "   rank                              title  \\\n",
       "0     1  Terminator X To The Edge of Panic   \n",
       "1     2                        4th Chamber   \n",
       "2     3                        Peter Piper   \n",
       "3     4               Play That Beat Mr DJ   \n",
       "4     5                          Time’s Up   \n",
       "\n",
       "                                           artist gender  year  \\\n",
       "0                                    Public Enemy   male  1998   \n",
       "1  Gza ft. Ghostface Killah & Killah Priest & RZA   male  1995   \n",
       "2                                         Run DMC   male  1986   \n",
       "3                                GLOBE & Whiz Kid   male  2001   \n",
       "4                                            O.C.   male  1994   \n",
       "\n",
       "      critic_name critic_rols critic_country critic_country2  \n",
       "0  Joseph Abajian   Fat Beats             US             NaN  \n",
       "1  Joseph Abajian   Fat Beats             US             NaN  \n",
       "2  Joseph Abajian   Fat Beats             US             NaN  \n",
       "3  Joseph Abajian   Fat Beats             US             NaN  \n",
       "4  Joseph Abajian   Fat Beats             US             NaN  "
      ]
     },
     "execution_count": 39,
     "metadata": {},
     "output_type": "execute_result"
    }
   ],
   "source": [
    "pollsdf.head(5)"
   ]
  },
  {
   "cell_type": "code",
   "execution_count": 40,
   "metadata": {},
   "outputs": [
    {
     "data": {
      "text/html": [
       "<div>\n",
       "<style scoped>\n",
       "    .dataframe tbody tr th:only-of-type {\n",
       "        vertical-align: middle;\n",
       "    }\n",
       "\n",
       "    .dataframe tbody tr th {\n",
       "        vertical-align: top;\n",
       "    }\n",
       "\n",
       "    .dataframe thead th {\n",
       "        text-align: right;\n",
       "    }\n",
       "</style>\n",
       "<table border=\"1\" class=\"dataframe\">\n",
       "  <thead>\n",
       "    <tr style=\"text-align: right;\">\n",
       "      <th></th>\n",
       "      <th>ID</th>\n",
       "      <th>title</th>\n",
       "      <th>artist</th>\n",
       "      <th>year</th>\n",
       "      <th>gender</th>\n",
       "      <th>points</th>\n",
       "      <th>n</th>\n",
       "      <th>n1</th>\n",
       "      <th>n2</th>\n",
       "      <th>n3</th>\n",
       "      <th>n4</th>\n",
       "      <th>n5</th>\n",
       "    </tr>\n",
       "  </thead>\n",
       "  <tbody>\n",
       "    <tr>\n",
       "      <th>0</th>\n",
       "      <td>1</td>\n",
       "      <td>Juicy</td>\n",
       "      <td>The Notorious B.I.G.</td>\n",
       "      <td>1994</td>\n",
       "      <td>male</td>\n",
       "      <td>140</td>\n",
       "      <td>18</td>\n",
       "      <td>9</td>\n",
       "      <td>3</td>\n",
       "      <td>3</td>\n",
       "      <td>1</td>\n",
       "      <td>2</td>\n",
       "    </tr>\n",
       "    <tr>\n",
       "      <th>1</th>\n",
       "      <td>2</td>\n",
       "      <td>Fight The Power</td>\n",
       "      <td>Public Enemy</td>\n",
       "      <td>1989</td>\n",
       "      <td>male</td>\n",
       "      <td>100</td>\n",
       "      <td>11</td>\n",
       "      <td>7</td>\n",
       "      <td>3</td>\n",
       "      <td>1</td>\n",
       "      <td>0</td>\n",
       "      <td>0</td>\n",
       "    </tr>\n",
       "    <tr>\n",
       "      <th>2</th>\n",
       "      <td>3</td>\n",
       "      <td>Shook Ones (Part II)</td>\n",
       "      <td>Mobb Deep</td>\n",
       "      <td>1995</td>\n",
       "      <td>male</td>\n",
       "      <td>94</td>\n",
       "      <td>13</td>\n",
       "      <td>4</td>\n",
       "      <td>5</td>\n",
       "      <td>1</td>\n",
       "      <td>1</td>\n",
       "      <td>2</td>\n",
       "    </tr>\n",
       "    <tr>\n",
       "      <th>3</th>\n",
       "      <td>4</td>\n",
       "      <td>The Message</td>\n",
       "      <td>Grandmaster Flash &amp; The Furious Five</td>\n",
       "      <td>1982</td>\n",
       "      <td>male</td>\n",
       "      <td>90</td>\n",
       "      <td>14</td>\n",
       "      <td>5</td>\n",
       "      <td>3</td>\n",
       "      <td>1</td>\n",
       "      <td>0</td>\n",
       "      <td>5</td>\n",
       "    </tr>\n",
       "    <tr>\n",
       "      <th>4</th>\n",
       "      <td>5</td>\n",
       "      <td>Nuthin’ But A ‘G’ Thang</td>\n",
       "      <td>Dr Dre ft. Snoop Doggy Dogg</td>\n",
       "      <td>1992</td>\n",
       "      <td>male</td>\n",
       "      <td>84</td>\n",
       "      <td>14</td>\n",
       "      <td>2</td>\n",
       "      <td>4</td>\n",
       "      <td>2</td>\n",
       "      <td>4</td>\n",
       "      <td>2</td>\n",
       "    </tr>\n",
       "  </tbody>\n",
       "</table>\n",
       "</div>"
      ],
      "text/plain": [
       "   ID                    title                                artist  year  \\\n",
       "0   1                    Juicy                  The Notorious B.I.G.  1994   \n",
       "1   2          Fight The Power                          Public Enemy  1989   \n",
       "2   3     Shook Ones (Part II)                             Mobb Deep  1995   \n",
       "3   4              The Message  Grandmaster Flash & The Furious Five  1982   \n",
       "4   5  Nuthin’ But A ‘G’ Thang           Dr Dre ft. Snoop Doggy Dogg  1992   \n",
       "\n",
       "  gender  points   n  n1  n2  n3  n4  n5  \n",
       "0   male     140  18   9   3   3   1   2  \n",
       "1   male     100  11   7   3   1   0   0  \n",
       "2   male      94  13   4   5   1   1   2  \n",
       "3   male      90  14   5   3   1   0   5  \n",
       "4   male      84  14   2   4   2   4   2  "
      ]
     },
     "execution_count": 40,
     "metadata": {},
     "output_type": "execute_result"
    }
   ],
   "source": [
    "rankingsdf.head(5)"
   ]
  },
  {
   "cell_type": "code",
   "execution_count": 13,
   "metadata": {},
   "outputs": [
    {
     "data": {
      "text/plain": [
       "rank                int64\n",
       "title              object\n",
       "artist             object\n",
       "gender             object\n",
       "year                int64\n",
       "critic_name        object\n",
       "critic_rols        object\n",
       "critic_country     object\n",
       "critic_country2    object\n",
       "dtype: object"
      ]
     },
     "execution_count": 13,
     "metadata": {},
     "output_type": "execute_result"
    }
   ],
   "source": [
    "pollsdf.dtypes"
   ]
  },
  {
   "cell_type": "code",
   "execution_count": 32,
   "metadata": {},
   "outputs": [],
   "source": [
    "import matplotlib as plt\n",
    "from matplotlib import pyplot"
   ]
  },
  {
   "cell_type": "code",
   "execution_count": 42,
   "metadata": {},
   "outputs": [
    {
     "data": {
      "text/plain": [
       "Text(0.5, 1.0, 'bins')"
      ]
     },
     "execution_count": 42,
     "metadata": {},
     "output_type": "execute_result"
    },
    {
     "data": {
      "image/png": "[encoded data removed]",
      "text/plain": [
       "<Figure size 432x288 with 1 Axes>"
      ]
     },
     "metadata": {
      "needs_background": "light"
     },
     "output_type": "display_data"
    }
   ],
   "source": [
    "plt.pyplot.hist(rankingsdf[\"year\"])\n",
    "plt.pyplot.xlabel(\"year\")\n",
    "plt.pyplot.ylabel(\"points\")\n",
    "plt.pyplot.title(\"bins\")"
   ]
  },
  {
   "cell_type": "code",
   "execution_count": 21,
   "metadata": {},
   "outputs": [],
   "source": [
    "per_year = pollsdf[\"year\"]"
   ]
  },
  {
   "cell_type": "code",
   "execution_count": 52,
   "metadata": {},
   "outputs": [
    {
     "data": {
      "text/plain": [
       "Text(0.0, 1.0, 'Year and points')"
      ]
     },
     "execution_count": 52,
     "metadata": {},
     "output_type": "execute_result"
    },
    {
     "data": {
      "image/png": "[encoded data removed]",
      "text/plain": [
       "<Figure size 432x288 with 1 Axes>"
      ]
     },
     "metadata": {
      "needs_background": "light"
     },
     "output_type": "display_data"
    }
   ],
   "source": [
    "plt.pyplot.scatter(rankingsdf[\"year\"],rankingsdf[\"points\"])\n",
    "plt.pyplot.title(\"Year and points\",loc='left')"
   ]
  },
  {
   "cell_type": "code",
   "execution_count": 51,
   "metadata": {},
   "outputs": [
    {
     "name": "stdout",
     "output_type": "stream",
     "text": [
      "Help on function title in module matplotlib.pyplot:\n",
      "\n",
      "title(label, fontdict=None, loc='center', pad=None, **kwargs)\n",
      "    Set a title for the axes.\n",
      "    \n",
      "    Set one of the three available axes titles. The available titles\n",
      "    are positioned above the axes in the center, flush with the left\n",
      "    edge, and flush with the right edge.\n",
      "    \n",
      "    Parameters\n",
      "    ----------\n",
      "    label : str\n",
      "        Text to use for the title\n",
      "    \n",
      "    fontdict : dict\n",
      "        A dictionary controlling the appearance of the title text,\n",
      "        the default `fontdict` is::\n",
      "    \n",
      "           {'fontsize': rcParams['axes.titlesize'],\n",
      "            'fontweight' : rcParams['axes.titleweight'],\n",
      "            'verticalalignment': 'baseline',\n",
      "            'horizontalalignment': loc}\n",
      "    \n",
      "    loc : {'center', 'left', 'right'}, str, optional\n",
      "        Which title to set, defaults to 'center'\n",
      "    \n",
      "    pad : float\n",
      "        The offset of the title from the top of the axes, in points.\n",
      "        Default is ``None`` to use rcParams['axes.titlepad'].\n",
      "    \n",
      "    Returns\n",
      "    -------\n",
      "    text : :class:`~matplotlib.text.Text`\n",
      "        The matplotlib text instance representing the title\n",
      "    \n",
      "    Other Parameters\n",
      "    ----------------\n",
      "    **kwargs : `~matplotlib.text.Text` properties\n",
      "        Other keyword arguments are text properties, see\n",
      "        :class:`~matplotlib.text.Text` for a list of valid text\n",
      "        properties.\n",
      "\n"
     ]
    }
   ],
   "source": [
    "help(plt.pyplot.title)"
   ]
  }
 ],
 "metadata": {
  "kernelspec": {
   "display_name": "Python 3",
   "language": "python",
   "name": "python3"
  },
  "language_info": {
   "codemirror_mode": {
    "name": "ipython",
    "version": 3
   },
   "file_extension": ".py",
   "mimetype": "text/x-python",
   "name": "python",
   "nbconvert_exporter": "python",
   "pygments_lexer": "ipython3",
   "version": "3.7.6"
  }
 },
 "nbformat": 4,
 "nbformat_minor": 4
}
